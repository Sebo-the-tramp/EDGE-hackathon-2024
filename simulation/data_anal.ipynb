{
 "cells": [
  {
   "cell_type": "code",
   "execution_count": 4,
   "metadata": {},
   "outputs": [],
   "source": [
    "import pandas as pd"
   ]
  },
  {
   "cell_type": "code",
   "execution_count": 5,
   "metadata": {},
   "outputs": [],
   "source": [
    "dp = pd.read_csv('schedule.csv', delimiter=';')"
   ]
  },
  {
   "cell_type": "code",
   "execution_count": 6,
   "metadata": {},
   "outputs": [
    {
     "data": {
      "text/html": [
       "<div>\n",
       "<style scoped>\n",
       "    .dataframe tbody tr th:only-of-type {\n",
       "        vertical-align: middle;\n",
       "    }\n",
       "\n",
       "    .dataframe tbody tr th {\n",
       "        vertical-align: top;\n",
       "    }\n",
       "\n",
       "    .dataframe thead th {\n",
       "        text-align: right;\n",
       "    }\n",
       "</style>\n",
       "<table border=\"1\" class=\"dataframe\">\n",
       "  <thead>\n",
       "    <tr style=\"text-align: right;\">\n",
       "      <th></th>\n",
       "      <th>Line</th>\n",
       "      <th>SKU_code</th>\n",
       "      <th>desc</th>\n",
       "      <th>blend_code</th>\n",
       "      <th>blend_desc</th>\n",
       "      <th>qty_KG</th>\n",
       "      <th>seq</th>\n",
       "    </tr>\n",
       "  </thead>\n",
       "  <tbody>\n",
       "    <tr>\n",
       "      <th>0</th>\n",
       "      <td>Line 1</td>\n",
       "      <td>F0001</td>\n",
       "      <td>LYL 1</td>\n",
       "      <td>B0001</td>\n",
       "      <td>Black Tea 1</td>\n",
       "      <td>30780</td>\n",
       "      <td>1</td>\n",
       "    </tr>\n",
       "    <tr>\n",
       "      <th>1</th>\n",
       "      <td>Line 2</td>\n",
       "      <td>F0027</td>\n",
       "      <td>ENV 3</td>\n",
       "      <td>B0012</td>\n",
       "      <td>Black Tea 7</td>\n",
       "      <td>1302</td>\n",
       "      <td>1</td>\n",
       "    </tr>\n",
       "    <tr>\n",
       "      <th>2</th>\n",
       "      <td>Line 3</td>\n",
       "      <td>F0023</td>\n",
       "      <td>ENV 1</td>\n",
       "      <td>B0009</td>\n",
       "      <td>Black Tea 4</td>\n",
       "      <td>233</td>\n",
       "      <td>1</td>\n",
       "    </tr>\n",
       "    <tr>\n",
       "      <th>3</th>\n",
       "      <td>Line 3</td>\n",
       "      <td>F0024</td>\n",
       "      <td>ENV 2</td>\n",
       "      <td>B0010</td>\n",
       "      <td>Black Tea 5</td>\n",
       "      <td>3726</td>\n",
       "      <td>2</td>\n",
       "    </tr>\n",
       "    <tr>\n",
       "      <th>4</th>\n",
       "      <td>Line 4</td>\n",
       "      <td>F0014</td>\n",
       "      <td>LYL Loose 3</td>\n",
       "      <td>B0004</td>\n",
       "      <td>Loose Tea 1</td>\n",
       "      <td>11328</td>\n",
       "      <td>1</td>\n",
       "    </tr>\n",
       "    <tr>\n",
       "      <th>5</th>\n",
       "      <td>Line 4</td>\n",
       "      <td>F0015</td>\n",
       "      <td>LYL Loose 4</td>\n",
       "      <td>B0004</td>\n",
       "      <td>Loose Tea 1</td>\n",
       "      <td>13680</td>\n",
       "      <td>2</td>\n",
       "    </tr>\n",
       "    <tr>\n",
       "      <th>6</th>\n",
       "      <td>Line 4</td>\n",
       "      <td>F0016</td>\n",
       "      <td>BB Loose 6</td>\n",
       "      <td>B0005</td>\n",
       "      <td>Loose Tea 2</td>\n",
       "      <td>28800</td>\n",
       "      <td>3</td>\n",
       "    </tr>\n",
       "    <tr>\n",
       "      <th>7</th>\n",
       "      <td>Line 4</td>\n",
       "      <td>F0017</td>\n",
       "      <td>BB Loose 7</td>\n",
       "      <td>B0006</td>\n",
       "      <td>Loose Tea 3</td>\n",
       "      <td>17820</td>\n",
       "      <td>4</td>\n",
       "    </tr>\n",
       "    <tr>\n",
       "      <th>8</th>\n",
       "      <td>Line 4</td>\n",
       "      <td>F0018</td>\n",
       "      <td>BB Loose 8</td>\n",
       "      <td>B0006</td>\n",
       "      <td>Loose Tea 3</td>\n",
       "      <td>3240</td>\n",
       "      <td>5</td>\n",
       "    </tr>\n",
       "    <tr>\n",
       "      <th>9</th>\n",
       "      <td>Line 4</td>\n",
       "      <td>F0019</td>\n",
       "      <td>BB Loose 9</td>\n",
       "      <td>B0006</td>\n",
       "      <td>Loose Tea 3</td>\n",
       "      <td>8640</td>\n",
       "      <td>6</td>\n",
       "    </tr>\n",
       "    <tr>\n",
       "      <th>10</th>\n",
       "      <td>Line 4</td>\n",
       "      <td>F0020</td>\n",
       "      <td>LYL Loose 5</td>\n",
       "      <td>B0008</td>\n",
       "      <td>Loose Tea 5</td>\n",
       "      <td>8640</td>\n",
       "      <td>7</td>\n",
       "    </tr>\n",
       "    <tr>\n",
       "      <th>11</th>\n",
       "      <td>Line 4</td>\n",
       "      <td>F0021</td>\n",
       "      <td>LYL Loose 6</td>\n",
       "      <td>B0008</td>\n",
       "      <td>Loose Tea 5</td>\n",
       "      <td>3240</td>\n",
       "      <td>8</td>\n",
       "    </tr>\n",
       "    <tr>\n",
       "      <th>12</th>\n",
       "      <td>Line 4</td>\n",
       "      <td>F0022</td>\n",
       "      <td>LYL Loose 7</td>\n",
       "      <td>B0007</td>\n",
       "      <td>Loose Tea 4</td>\n",
       "      <td>12960</td>\n",
       "      <td>9</td>\n",
       "    </tr>\n",
       "    <tr>\n",
       "      <th>13</th>\n",
       "      <td>Line 5</td>\n",
       "      <td>F0007</td>\n",
       "      <td>LYL Loose 1</td>\n",
       "      <td>B0004</td>\n",
       "      <td>Loose Tea 1</td>\n",
       "      <td>6509</td>\n",
       "      <td>1</td>\n",
       "    </tr>\n",
       "    <tr>\n",
       "      <th>14</th>\n",
       "      <td>Line 5</td>\n",
       "      <td>F0008</td>\n",
       "      <td>LYL Loose 2</td>\n",
       "      <td>B0004</td>\n",
       "      <td>Loose Tea 1</td>\n",
       "      <td>24960</td>\n",
       "      <td>2</td>\n",
       "    </tr>\n",
       "    <tr>\n",
       "      <th>15</th>\n",
       "      <td>Line 5</td>\n",
       "      <td>F0009</td>\n",
       "      <td>BB Loose 1</td>\n",
       "      <td>B0005</td>\n",
       "      <td>Loose Tea 2</td>\n",
       "      <td>22272</td>\n",
       "      <td>3</td>\n",
       "    </tr>\n",
       "    <tr>\n",
       "      <th>16</th>\n",
       "      <td>Line 5</td>\n",
       "      <td>F0010</td>\n",
       "      <td>BB Loose 2</td>\n",
       "      <td>B0006</td>\n",
       "      <td>Loose Tea 3</td>\n",
       "      <td>8370</td>\n",
       "      <td>4</td>\n",
       "    </tr>\n",
       "    <tr>\n",
       "      <th>17</th>\n",
       "      <td>Line 5</td>\n",
       "      <td>F0011</td>\n",
       "      <td>BB Loose 3</td>\n",
       "      <td>B0006</td>\n",
       "      <td>Loose Tea 3</td>\n",
       "      <td>8640</td>\n",
       "      <td>5</td>\n",
       "    </tr>\n",
       "    <tr>\n",
       "      <th>18</th>\n",
       "      <td>Line 5</td>\n",
       "      <td>F0012</td>\n",
       "      <td>BB Loose 4</td>\n",
       "      <td>B0007</td>\n",
       "      <td>Loose Tea 4</td>\n",
       "      <td>13500</td>\n",
       "      <td>6</td>\n",
       "    </tr>\n",
       "    <tr>\n",
       "      <th>19</th>\n",
       "      <td>Line 5</td>\n",
       "      <td>F0013</td>\n",
       "      <td>BB Loose 5</td>\n",
       "      <td>B0007</td>\n",
       "      <td>Loose Tea 4</td>\n",
       "      <td>10800</td>\n",
       "      <td>7</td>\n",
       "    </tr>\n",
       "    <tr>\n",
       "      <th>20</th>\n",
       "      <td>Line 6</td>\n",
       "      <td>F0002</td>\n",
       "      <td>LYL 2</td>\n",
       "      <td>B0002</td>\n",
       "      <td>Black Tea 2</td>\n",
       "      <td>19440</td>\n",
       "      <td>1</td>\n",
       "    </tr>\n",
       "    <tr>\n",
       "      <th>21</th>\n",
       "      <td>Line 6</td>\n",
       "      <td>F0003</td>\n",
       "      <td>LYL 3</td>\n",
       "      <td>B0001</td>\n",
       "      <td>Black Tea 1</td>\n",
       "      <td>7920</td>\n",
       "      <td>2</td>\n",
       "    </tr>\n",
       "    <tr>\n",
       "      <th>22</th>\n",
       "      <td>Line 7</td>\n",
       "      <td>F0006</td>\n",
       "      <td>LYL 3</td>\n",
       "      <td>B0001</td>\n",
       "      <td>Black Tea 1</td>\n",
       "      <td>14040</td>\n",
       "      <td>1</td>\n",
       "    </tr>\n",
       "    <tr>\n",
       "      <th>23</th>\n",
       "      <td>Line 8</td>\n",
       "      <td>F0004</td>\n",
       "      <td>LYL 4</td>\n",
       "      <td>B0002</td>\n",
       "      <td>Black Tea 2</td>\n",
       "      <td>1447</td>\n",
       "      <td>1</td>\n",
       "    </tr>\n",
       "    <tr>\n",
       "      <th>24</th>\n",
       "      <td>Line 8</td>\n",
       "      <td>F0005</td>\n",
       "      <td>BB 1</td>\n",
       "      <td>B0003</td>\n",
       "      <td>Black Tea 3</td>\n",
       "      <td>33360</td>\n",
       "      <td>2</td>\n",
       "    </tr>\n",
       "    <tr>\n",
       "      <th>25</th>\n",
       "      <td>Line 9</td>\n",
       "      <td>F0026</td>\n",
       "      <td>LYL 5</td>\n",
       "      <td>B0010</td>\n",
       "      <td>Black Tea 5</td>\n",
       "      <td>5040</td>\n",
       "      <td>1</td>\n",
       "    </tr>\n",
       "    <tr>\n",
       "      <th>26</th>\n",
       "      <td>Line 10</td>\n",
       "      <td>F0025</td>\n",
       "      <td>BUSH 1</td>\n",
       "      <td>B0011</td>\n",
       "      <td>Black Tea 6</td>\n",
       "      <td>15450</td>\n",
       "      <td>1</td>\n",
       "    </tr>\n",
       "    <tr>\n",
       "      <th>27</th>\n",
       "      <td>Line 11</td>\n",
       "      <td>F0028</td>\n",
       "      <td>LYL 6</td>\n",
       "      <td>B0003</td>\n",
       "      <td>Black Tea 3</td>\n",
       "      <td>17145</td>\n",
       "      <td>1</td>\n",
       "    </tr>\n",
       "    <tr>\n",
       "      <th>28</th>\n",
       "      <td>Line 11</td>\n",
       "      <td>F0029</td>\n",
       "      <td>LYL 7</td>\n",
       "      <td>B0001</td>\n",
       "      <td>Black Tea 1</td>\n",
       "      <td>15587</td>\n",
       "      <td>2</td>\n",
       "    </tr>\n",
       "  </tbody>\n",
       "</table>\n",
       "</div>"
      ],
      "text/plain": [
       "       Line SKU_code         desc blend_code   blend_desc  qty_KG  seq\n",
       "0    Line 1    F0001        LYL 1      B0001  Black Tea 1   30780    1\n",
       "1    Line 2    F0027        ENV 3      B0012  Black Tea 7    1302    1\n",
       "2    Line 3    F0023        ENV 1      B0009  Black Tea 4     233    1\n",
       "3    Line 3    F0024        ENV 2      B0010  Black Tea 5    3726    2\n",
       "4    Line 4    F0014  LYL Loose 3      B0004  Loose Tea 1   11328    1\n",
       "5    Line 4    F0015  LYL Loose 4      B0004  Loose Tea 1   13680    2\n",
       "6    Line 4    F0016   BB Loose 6      B0005  Loose Tea 2   28800    3\n",
       "7    Line 4    F0017   BB Loose 7      B0006  Loose Tea 3   17820    4\n",
       "8    Line 4    F0018   BB Loose 8      B0006  Loose Tea 3    3240    5\n",
       "9    Line 4    F0019   BB Loose 9      B0006  Loose Tea 3    8640    6\n",
       "10   Line 4    F0020  LYL Loose 5      B0008  Loose Tea 5    8640    7\n",
       "11   Line 4    F0021  LYL Loose 6      B0008  Loose Tea 5    3240    8\n",
       "12   Line 4    F0022  LYL Loose 7      B0007  Loose Tea 4   12960    9\n",
       "13   Line 5    F0007  LYL Loose 1      B0004  Loose Tea 1    6509    1\n",
       "14   Line 5    F0008  LYL Loose 2      B0004  Loose Tea 1   24960    2\n",
       "15   Line 5    F0009   BB Loose 1      B0005  Loose Tea 2   22272    3\n",
       "16   Line 5    F0010   BB Loose 2      B0006  Loose Tea 3    8370    4\n",
       "17   Line 5    F0011   BB Loose 3      B0006  Loose Tea 3    8640    5\n",
       "18   Line 5    F0012   BB Loose 4      B0007  Loose Tea 4   13500    6\n",
       "19   Line 5    F0013   BB Loose 5      B0007  Loose Tea 4   10800    7\n",
       "20   Line 6    F0002        LYL 2      B0002  Black Tea 2   19440    1\n",
       "21   Line 6    F0003        LYL 3      B0001  Black Tea 1    7920    2\n",
       "22   Line 7    F0006        LYL 3      B0001  Black Tea 1   14040    1\n",
       "23   Line 8    F0004        LYL 4      B0002  Black Tea 2    1447    1\n",
       "24   Line 8    F0005         BB 1      B0003  Black Tea 3   33360    2\n",
       "25   Line 9    F0026        LYL 5      B0010  Black Tea 5    5040    1\n",
       "26  Line 10    F0025       BUSH 1      B0011  Black Tea 6   15450    1\n",
       "27  Line 11    F0028        LYL 6      B0003  Black Tea 3   17145    1\n",
       "28  Line 11    F0029        LYL 7      B0001  Black Tea 1   15587    2"
      ]
     },
     "execution_count": 6,
     "metadata": {},
     "output_type": "execute_result"
    }
   ],
   "source": [
    "dp"
   ]
  },
  {
   "cell_type": "code",
   "execution_count": 7,
   "metadata": {},
   "outputs": [
    {
     "data": {
      "text/html": [
       "<div>\n",
       "<style scoped>\n",
       "    .dataframe tbody tr th:only-of-type {\n",
       "        vertical-align: middle;\n",
       "    }\n",
       "\n",
       "    .dataframe tbody tr th {\n",
       "        vertical-align: top;\n",
       "    }\n",
       "\n",
       "    .dataframe thead th {\n",
       "        text-align: right;\n",
       "    }\n",
       "</style>\n",
       "<table border=\"1\" class=\"dataframe\">\n",
       "  <thead>\n",
       "    <tr style=\"text-align: right;\">\n",
       "      <th></th>\n",
       "      <th>Line</th>\n",
       "      <th>SKU_code</th>\n",
       "      <th>desc</th>\n",
       "      <th>blend_code</th>\n",
       "      <th>blend_desc</th>\n",
       "      <th>qty_KG</th>\n",
       "      <th>seq</th>\n",
       "    </tr>\n",
       "  </thead>\n",
       "  <tbody>\n",
       "    <tr>\n",
       "      <th>0</th>\n",
       "      <td>Line 1</td>\n",
       "      <td>F0001</td>\n",
       "      <td>LYL 1</td>\n",
       "      <td>B0001</td>\n",
       "      <td>Black Tea 1</td>\n",
       "      <td>30780</td>\n",
       "      <td>1</td>\n",
       "    </tr>\n",
       "    <tr>\n",
       "      <th>1</th>\n",
       "      <td>Line 2</td>\n",
       "      <td>F0027</td>\n",
       "      <td>ENV 3</td>\n",
       "      <td>B0012</td>\n",
       "      <td>Black Tea 7</td>\n",
       "      <td>1302</td>\n",
       "      <td>1</td>\n",
       "    </tr>\n",
       "    <tr>\n",
       "      <th>2</th>\n",
       "      <td>Line 3</td>\n",
       "      <td>F0023</td>\n",
       "      <td>ENV 1</td>\n",
       "      <td>B0009</td>\n",
       "      <td>Black Tea 4</td>\n",
       "      <td>233</td>\n",
       "      <td>1</td>\n",
       "    </tr>\n",
       "    <tr>\n",
       "      <th>3</th>\n",
       "      <td>Line 3</td>\n",
       "      <td>F0024</td>\n",
       "      <td>ENV 2</td>\n",
       "      <td>B0010</td>\n",
       "      <td>Black Tea 5</td>\n",
       "      <td>3726</td>\n",
       "      <td>2</td>\n",
       "    </tr>\n",
       "    <tr>\n",
       "      <th>4</th>\n",
       "      <td>Line 4</td>\n",
       "      <td>F0014</td>\n",
       "      <td>LYL Loose 3</td>\n",
       "      <td>B0004</td>\n",
       "      <td>Loose Tea 1</td>\n",
       "      <td>11328</td>\n",
       "      <td>1</td>\n",
       "    </tr>\n",
       "    <tr>\n",
       "      <th>5</th>\n",
       "      <td>Line 4</td>\n",
       "      <td>F0015</td>\n",
       "      <td>LYL Loose 4</td>\n",
       "      <td>B0004</td>\n",
       "      <td>Loose Tea 1</td>\n",
       "      <td>13680</td>\n",
       "      <td>2</td>\n",
       "    </tr>\n",
       "    <tr>\n",
       "      <th>6</th>\n",
       "      <td>Line 4</td>\n",
       "      <td>F0016</td>\n",
       "      <td>BB Loose 6</td>\n",
       "      <td>B0005</td>\n",
       "      <td>Loose Tea 2</td>\n",
       "      <td>28800</td>\n",
       "      <td>3</td>\n",
       "    </tr>\n",
       "    <tr>\n",
       "      <th>7</th>\n",
       "      <td>Line 4</td>\n",
       "      <td>F0017</td>\n",
       "      <td>BB Loose 7</td>\n",
       "      <td>B0006</td>\n",
       "      <td>Loose Tea 3</td>\n",
       "      <td>17820</td>\n",
       "      <td>4</td>\n",
       "    </tr>\n",
       "    <tr>\n",
       "      <th>8</th>\n",
       "      <td>Line 4</td>\n",
       "      <td>F0018</td>\n",
       "      <td>BB Loose 8</td>\n",
       "      <td>B0006</td>\n",
       "      <td>Loose Tea 3</td>\n",
       "      <td>3240</td>\n",
       "      <td>5</td>\n",
       "    </tr>\n",
       "    <tr>\n",
       "      <th>9</th>\n",
       "      <td>Line 4</td>\n",
       "      <td>F0019</td>\n",
       "      <td>BB Loose 9</td>\n",
       "      <td>B0006</td>\n",
       "      <td>Loose Tea 3</td>\n",
       "      <td>8640</td>\n",
       "      <td>6</td>\n",
       "    </tr>\n",
       "    <tr>\n",
       "      <th>10</th>\n",
       "      <td>Line 4</td>\n",
       "      <td>F0020</td>\n",
       "      <td>LYL Loose 5</td>\n",
       "      <td>B0008</td>\n",
       "      <td>Loose Tea 5</td>\n",
       "      <td>8640</td>\n",
       "      <td>7</td>\n",
       "    </tr>\n",
       "    <tr>\n",
       "      <th>11</th>\n",
       "      <td>Line 4</td>\n",
       "      <td>F0021</td>\n",
       "      <td>LYL Loose 6</td>\n",
       "      <td>B0008</td>\n",
       "      <td>Loose Tea 5</td>\n",
       "      <td>3240</td>\n",
       "      <td>8</td>\n",
       "    </tr>\n",
       "    <tr>\n",
       "      <th>12</th>\n",
       "      <td>Line 4</td>\n",
       "      <td>F0022</td>\n",
       "      <td>LYL Loose 7</td>\n",
       "      <td>B0007</td>\n",
       "      <td>Loose Tea 4</td>\n",
       "      <td>12960</td>\n",
       "      <td>9</td>\n",
       "    </tr>\n",
       "    <tr>\n",
       "      <th>13</th>\n",
       "      <td>Line 5</td>\n",
       "      <td>F0007</td>\n",
       "      <td>LYL Loose 1</td>\n",
       "      <td>B0004</td>\n",
       "      <td>Loose Tea 1</td>\n",
       "      <td>6509</td>\n",
       "      <td>1</td>\n",
       "    </tr>\n",
       "    <tr>\n",
       "      <th>14</th>\n",
       "      <td>Line 5</td>\n",
       "      <td>F0008</td>\n",
       "      <td>LYL Loose 2</td>\n",
       "      <td>B0004</td>\n",
       "      <td>Loose Tea 1</td>\n",
       "      <td>24960</td>\n",
       "      <td>2</td>\n",
       "    </tr>\n",
       "    <tr>\n",
       "      <th>15</th>\n",
       "      <td>Line 5</td>\n",
       "      <td>F0009</td>\n",
       "      <td>BB Loose 1</td>\n",
       "      <td>B0005</td>\n",
       "      <td>Loose Tea 2</td>\n",
       "      <td>22272</td>\n",
       "      <td>3</td>\n",
       "    </tr>\n",
       "    <tr>\n",
       "      <th>16</th>\n",
       "      <td>Line 5</td>\n",
       "      <td>F0010</td>\n",
       "      <td>BB Loose 2</td>\n",
       "      <td>B0006</td>\n",
       "      <td>Loose Tea 3</td>\n",
       "      <td>8370</td>\n",
       "      <td>4</td>\n",
       "    </tr>\n",
       "    <tr>\n",
       "      <th>17</th>\n",
       "      <td>Line 5</td>\n",
       "      <td>F0011</td>\n",
       "      <td>BB Loose 3</td>\n",
       "      <td>B0006</td>\n",
       "      <td>Loose Tea 3</td>\n",
       "      <td>8640</td>\n",
       "      <td>5</td>\n",
       "    </tr>\n",
       "    <tr>\n",
       "      <th>18</th>\n",
       "      <td>Line 5</td>\n",
       "      <td>F0012</td>\n",
       "      <td>BB Loose 4</td>\n",
       "      <td>B0007</td>\n",
       "      <td>Loose Tea 4</td>\n",
       "      <td>13500</td>\n",
       "      <td>6</td>\n",
       "    </tr>\n",
       "    <tr>\n",
       "      <th>19</th>\n",
       "      <td>Line 5</td>\n",
       "      <td>F0013</td>\n",
       "      <td>BB Loose 5</td>\n",
       "      <td>B0007</td>\n",
       "      <td>Loose Tea 4</td>\n",
       "      <td>10800</td>\n",
       "      <td>7</td>\n",
       "    </tr>\n",
       "    <tr>\n",
       "      <th>20</th>\n",
       "      <td>Line 6</td>\n",
       "      <td>F0002</td>\n",
       "      <td>LYL 2</td>\n",
       "      <td>B0002</td>\n",
       "      <td>Black Tea 2</td>\n",
       "      <td>19440</td>\n",
       "      <td>1</td>\n",
       "    </tr>\n",
       "    <tr>\n",
       "      <th>21</th>\n",
       "      <td>Line 6</td>\n",
       "      <td>F0003</td>\n",
       "      <td>LYL 3</td>\n",
       "      <td>B0001</td>\n",
       "      <td>Black Tea 1</td>\n",
       "      <td>7920</td>\n",
       "      <td>2</td>\n",
       "    </tr>\n",
       "    <tr>\n",
       "      <th>22</th>\n",
       "      <td>Line 7</td>\n",
       "      <td>F0006</td>\n",
       "      <td>LYL 3</td>\n",
       "      <td>B0001</td>\n",
       "      <td>Black Tea 1</td>\n",
       "      <td>14040</td>\n",
       "      <td>1</td>\n",
       "    </tr>\n",
       "    <tr>\n",
       "      <th>23</th>\n",
       "      <td>Line 8</td>\n",
       "      <td>F0004</td>\n",
       "      <td>LYL 4</td>\n",
       "      <td>B0002</td>\n",
       "      <td>Black Tea 2</td>\n",
       "      <td>1447</td>\n",
       "      <td>1</td>\n",
       "    </tr>\n",
       "    <tr>\n",
       "      <th>24</th>\n",
       "      <td>Line 8</td>\n",
       "      <td>F0005</td>\n",
       "      <td>BB 1</td>\n",
       "      <td>B0003</td>\n",
       "      <td>Black Tea 3</td>\n",
       "      <td>33360</td>\n",
       "      <td>2</td>\n",
       "    </tr>\n",
       "    <tr>\n",
       "      <th>25</th>\n",
       "      <td>Line 9</td>\n",
       "      <td>F0026</td>\n",
       "      <td>LYL 5</td>\n",
       "      <td>B0010</td>\n",
       "      <td>Black Tea 5</td>\n",
       "      <td>5040</td>\n",
       "      <td>1</td>\n",
       "    </tr>\n",
       "    <tr>\n",
       "      <th>26</th>\n",
       "      <td>Line 10</td>\n",
       "      <td>F0025</td>\n",
       "      <td>BUSH 1</td>\n",
       "      <td>B0011</td>\n",
       "      <td>Black Tea 6</td>\n",
       "      <td>15450</td>\n",
       "      <td>1</td>\n",
       "    </tr>\n",
       "    <tr>\n",
       "      <th>27</th>\n",
       "      <td>Line 11</td>\n",
       "      <td>F0028</td>\n",
       "      <td>LYL 6</td>\n",
       "      <td>B0003</td>\n",
       "      <td>Black Tea 3</td>\n",
       "      <td>17145</td>\n",
       "      <td>1</td>\n",
       "    </tr>\n",
       "    <tr>\n",
       "      <th>28</th>\n",
       "      <td>Line 11</td>\n",
       "      <td>F0029</td>\n",
       "      <td>LYL 7</td>\n",
       "      <td>B0001</td>\n",
       "      <td>Black Tea 1</td>\n",
       "      <td>15587</td>\n",
       "      <td>2</td>\n",
       "    </tr>\n",
       "  </tbody>\n",
       "</table>\n",
       "</div>"
      ],
      "text/plain": [
       "       Line SKU_code         desc blend_code   blend_desc  qty_KG  seq\n",
       "0    Line 1    F0001        LYL 1      B0001  Black Tea 1   30780    1\n",
       "1    Line 2    F0027        ENV 3      B0012  Black Tea 7    1302    1\n",
       "2    Line 3    F0023        ENV 1      B0009  Black Tea 4     233    1\n",
       "3    Line 3    F0024        ENV 2      B0010  Black Tea 5    3726    2\n",
       "4    Line 4    F0014  LYL Loose 3      B0004  Loose Tea 1   11328    1\n",
       "5    Line 4    F0015  LYL Loose 4      B0004  Loose Tea 1   13680    2\n",
       "6    Line 4    F0016   BB Loose 6      B0005  Loose Tea 2   28800    3\n",
       "7    Line 4    F0017   BB Loose 7      B0006  Loose Tea 3   17820    4\n",
       "8    Line 4    F0018   BB Loose 8      B0006  Loose Tea 3    3240    5\n",
       "9    Line 4    F0019   BB Loose 9      B0006  Loose Tea 3    8640    6\n",
       "10   Line 4    F0020  LYL Loose 5      B0008  Loose Tea 5    8640    7\n",
       "11   Line 4    F0021  LYL Loose 6      B0008  Loose Tea 5    3240    8\n",
       "12   Line 4    F0022  LYL Loose 7      B0007  Loose Tea 4   12960    9\n",
       "13   Line 5    F0007  LYL Loose 1      B0004  Loose Tea 1    6509    1\n",
       "14   Line 5    F0008  LYL Loose 2      B0004  Loose Tea 1   24960    2\n",
       "15   Line 5    F0009   BB Loose 1      B0005  Loose Tea 2   22272    3\n",
       "16   Line 5    F0010   BB Loose 2      B0006  Loose Tea 3    8370    4\n",
       "17   Line 5    F0011   BB Loose 3      B0006  Loose Tea 3    8640    5\n",
       "18   Line 5    F0012   BB Loose 4      B0007  Loose Tea 4   13500    6\n",
       "19   Line 5    F0013   BB Loose 5      B0007  Loose Tea 4   10800    7\n",
       "20   Line 6    F0002        LYL 2      B0002  Black Tea 2   19440    1\n",
       "21   Line 6    F0003        LYL 3      B0001  Black Tea 1    7920    2\n",
       "22   Line 7    F0006        LYL 3      B0001  Black Tea 1   14040    1\n",
       "23   Line 8    F0004        LYL 4      B0002  Black Tea 2    1447    1\n",
       "24   Line 8    F0005         BB 1      B0003  Black Tea 3   33360    2\n",
       "25   Line 9    F0026        LYL 5      B0010  Black Tea 5    5040    1\n",
       "26  Line 10    F0025       BUSH 1      B0011  Black Tea 6   15450    1\n",
       "27  Line 11    F0028        LYL 6      B0003  Black Tea 3   17145    1\n",
       "28  Line 11    F0029        LYL 7      B0001  Black Tea 1   15587    2"
      ]
     },
     "execution_count": 7,
     "metadata": {},
     "output_type": "execute_result"
    }
   ],
   "source": [
    "dp"
   ]
  },
  {
   "cell_type": "code",
   "execution_count": 11,
   "metadata": {},
   "outputs": [
    {
     "data": {
      "text/plain": [
       "blend_desc\n",
       "Black Tea 4      233\n",
       "Black Tea 7     1302\n",
       "Black Tea 5     8766\n",
       "Loose Tea 5    11880\n",
       "Black Tea 6    15450\n",
       "Black Tea 2    20887\n",
       "Loose Tea 4    37260\n",
       "Loose Tea 3    46710\n",
       "Black Tea 3    50505\n",
       "Loose Tea 2    51072\n",
       "Loose Tea 1    56477\n",
       "Black Tea 1    68327\n",
       "Name: qty_KG, dtype: int64"
      ]
     },
     "execution_count": 11,
     "metadata": {},
     "output_type": "execute_result"
    }
   ],
   "source": [
    "\n",
    "dp.groupby(['blend_desc'])['qty_KG'].sum().sort_values()"
   ]
  },
  {
   "cell_type": "code",
   "execution_count": 28,
   "metadata": {},
   "outputs": [
    {
     "data": {
      "text/plain": [
       "blend_desc   seq\n",
       "Black Tea 1  1      44820\n",
       "             2      23507\n",
       "Black Tea 2  1      20887\n",
       "Black Tea 3  1      17145\n",
       "             2      33360\n",
       "Black Tea 4  1        233\n",
       "Black Tea 5  1       5040\n",
       "             2       3726\n",
       "Black Tea 6  1      15450\n",
       "Black Tea 7  1       1302\n",
       "Loose Tea 1  1      17837\n",
       "             2      38640\n",
       "Loose Tea 2  3      51072\n",
       "Loose Tea 3  4      26190\n",
       "             5      11880\n",
       "             6       8640\n",
       "Loose Tea 4  6      13500\n",
       "             7      10800\n",
       "             9      12960\n",
       "Loose Tea 5  7       8640\n",
       "             8       3240\n",
       "Name: qty_KG, dtype: int64"
      ]
     },
     "execution_count": 28,
     "metadata": {},
     "output_type": "execute_result"
    }
   ],
   "source": [
    "# compute the overall quantity needed for each tea blend\n",
    "\n",
    "dp.groupby(['blend_desc', 'seq'])['qty_KG'].sum()"
   ]
  },
  {
   "cell_type": "code",
   "execution_count": 2,
   "metadata": {},
   "outputs": [
    {
     "data": {
      "application/vnd.plotly.v1+json": {
       "config": {
        "plotlyServerURL": "https://plot.ly"
       },
       "data": [
        {
         "fill": "toself",
         "fillcolor": "rgb(255, 127, 14)",
         "hoverinfo": "name",
         "legendgroup": "rgb(255, 127, 14)",
         "mode": "none",
         "name": "Task 2",
         "type": "scatter",
         "x": [
          "2024-03-01",
          "2024-04-15",
          "2024-04-15",
          "2024-03-01"
         ],
         "y": [
          0.8,
          0.8,
          1.2,
          1.2
         ]
        },
        {
         "fill": "toself",
         "fillcolor": "rgb(31, 119, 180)",
         "hoverinfo": "name",
         "legendgroup": "rgb(31, 119, 180)",
         "mode": "none",
         "name": "Task 1",
         "type": "scatter",
         "x": [
          "2024-01-01",
          "2024-02-28",
          "2024-02-28",
          "2024-01-01"
         ],
         "y": [
          -0.2,
          -0.2,
          0.2,
          0.2
         ]
        },
        {
         "fill": "toself",
         "fillcolor": "rgb(44, 160, 44)",
         "hoverinfo": "name",
         "legendgroup": "rgb(44, 160, 44)",
         "mode": "none",
         "name": "Task 3",
         "type": "scatter",
         "x": [
          "2024-02-15",
          "2024-03-15",
          "2024-03-15",
          "2024-02-15"
         ],
         "y": [
          1.8,
          1.8,
          2.2,
          2.2
         ]
        },
        {
         "legendgroup": "rgb(255, 127, 14)",
         "marker": {
          "color": "rgb(255, 127, 14)",
          "opacity": 0,
          "size": 1
         },
         "mode": "markers",
         "name": "",
         "showlegend": false,
         "text": [
          null,
          null
         ],
         "type": "scatter",
         "x": [
          "2024-03-01",
          "2024-04-15"
         ],
         "y": [
          1,
          1
         ]
        },
        {
         "legendgroup": "rgb(31, 119, 180)",
         "marker": {
          "color": "rgb(31, 119, 180)",
          "opacity": 0,
          "size": 1
         },
         "mode": "markers",
         "name": "",
         "showlegend": false,
         "text": [
          null,
          null
         ],
         "type": "scatter",
         "x": [
          "2024-01-01",
          "2024-02-28"
         ],
         "y": [
          0,
          0
         ]
        },
        {
         "legendgroup": "rgb(44, 160, 44)",
         "marker": {
          "color": "rgb(44, 160, 44)",
          "opacity": 0,
          "size": 1
         },
         "mode": "markers",
         "name": "",
         "showlegend": false,
         "text": [
          null,
          null
         ],
         "type": "scatter",
         "x": [
          "2024-02-15",
          "2024-03-15"
         ],
         "y": [
          2,
          2
         ]
        }
       ],
       "layout": {
        "height": 600,
        "hovermode": "closest",
        "showlegend": false,
        "template": {
         "data": {
          "bar": [
           {
            "error_x": {
             "color": "#2a3f5f"
            },
            "error_y": {
             "color": "#2a3f5f"
            },
            "marker": {
             "line": {
              "color": "#E5ECF6",
              "width": 0.5
             },
             "pattern": {
              "fillmode": "overlay",
              "size": 10,
              "solidity": 0.2
             }
            },
            "type": "bar"
           }
          ],
          "barpolar": [
           {
            "marker": {
             "line": {
              "color": "#E5ECF6",
              "width": 0.5
             },
             "pattern": {
              "fillmode": "overlay",
              "size": 10,
              "solidity": 0.2
             }
            },
            "type": "barpolar"
           }
          ],
          "carpet": [
           {
            "aaxis": {
             "endlinecolor": "#2a3f5f",
             "gridcolor": "white",
             "linecolor": "white",
             "minorgridcolor": "white",
             "startlinecolor": "#2a3f5f"
            },
            "baxis": {
             "endlinecolor": "#2a3f5f",
             "gridcolor": "white",
             "linecolor": "white",
             "minorgridcolor": "white",
             "startlinecolor": "#2a3f5f"
            },
            "type": "carpet"
           }
          ],
          "choropleth": [
           {
            "colorbar": {
             "outlinewidth": 0,
             "ticks": ""
            },
            "type": "choropleth"
           }
          ],
          "contour": [
           {
            "colorbar": {
             "outlinewidth": 0,
             "ticks": ""
            },
            "colorscale": [
             [
              0,
              "#0d0887"
             ],
             [
              0.1111111111111111,
              "#46039f"
             ],
             [
              0.2222222222222222,
              "#7201a8"
             ],
             [
              0.3333333333333333,
              "#9c179e"
             ],
             [
              0.4444444444444444,
              "#bd3786"
             ],
             [
              0.5555555555555556,
              "#d8576b"
             ],
             [
              0.6666666666666666,
              "#ed7953"
             ],
             [
              0.7777777777777778,
              "#fb9f3a"
             ],
             [
              0.8888888888888888,
              "#fdca26"
             ],
             [
              1,
              "#f0f921"
             ]
            ],
            "type": "contour"
           }
          ],
          "contourcarpet": [
           {
            "colorbar": {
             "outlinewidth": 0,
             "ticks": ""
            },
            "type": "contourcarpet"
           }
          ],
          "heatmap": [
           {
            "colorbar": {
             "outlinewidth": 0,
             "ticks": ""
            },
            "colorscale": [
             [
              0,
              "#0d0887"
             ],
             [
              0.1111111111111111,
              "#46039f"
             ],
             [
              0.2222222222222222,
              "#7201a8"
             ],
             [
              0.3333333333333333,
              "#9c179e"
             ],
             [
              0.4444444444444444,
              "#bd3786"
             ],
             [
              0.5555555555555556,
              "#d8576b"
             ],
             [
              0.6666666666666666,
              "#ed7953"
             ],
             [
              0.7777777777777778,
              "#fb9f3a"
             ],
             [
              0.8888888888888888,
              "#fdca26"
             ],
             [
              1,
              "#f0f921"
             ]
            ],
            "type": "heatmap"
           }
          ],
          "heatmapgl": [
           {
            "colorbar": {
             "outlinewidth": 0,
             "ticks": ""
            },
            "colorscale": [
             [
              0,
              "#0d0887"
             ],
             [
              0.1111111111111111,
              "#46039f"
             ],
             [
              0.2222222222222222,
              "#7201a8"
             ],
             [
              0.3333333333333333,
              "#9c179e"
             ],
             [
              0.4444444444444444,
              "#bd3786"
             ],
             [
              0.5555555555555556,
              "#d8576b"
             ],
             [
              0.6666666666666666,
              "#ed7953"
             ],
             [
              0.7777777777777778,
              "#fb9f3a"
             ],
             [
              0.8888888888888888,
              "#fdca26"
             ],
             [
              1,
              "#f0f921"
             ]
            ],
            "type": "heatmapgl"
           }
          ],
          "histogram": [
           {
            "marker": {
             "pattern": {
              "fillmode": "overlay",
              "size": 10,
              "solidity": 0.2
             }
            },
            "type": "histogram"
           }
          ],
          "histogram2d": [
           {
            "colorbar": {
             "outlinewidth": 0,
             "ticks": ""
            },
            "colorscale": [
             [
              0,
              "#0d0887"
             ],
             [
              0.1111111111111111,
              "#46039f"
             ],
             [
              0.2222222222222222,
              "#7201a8"
             ],
             [
              0.3333333333333333,
              "#9c179e"
             ],
             [
              0.4444444444444444,
              "#bd3786"
             ],
             [
              0.5555555555555556,
              "#d8576b"
             ],
             [
              0.6666666666666666,
              "#ed7953"
             ],
             [
              0.7777777777777778,
              "#fb9f3a"
             ],
             [
              0.8888888888888888,
              "#fdca26"
             ],
             [
              1,
              "#f0f921"
             ]
            ],
            "type": "histogram2d"
           }
          ],
          "histogram2dcontour": [
           {
            "colorbar": {
             "outlinewidth": 0,
             "ticks": ""
            },
            "colorscale": [
             [
              0,
              "#0d0887"
             ],
             [
              0.1111111111111111,
              "#46039f"
             ],
             [
              0.2222222222222222,
              "#7201a8"
             ],
             [
              0.3333333333333333,
              "#9c179e"
             ],
             [
              0.4444444444444444,
              "#bd3786"
             ],
             [
              0.5555555555555556,
              "#d8576b"
             ],
             [
              0.6666666666666666,
              "#ed7953"
             ],
             [
              0.7777777777777778,
              "#fb9f3a"
             ],
             [
              0.8888888888888888,
              "#fdca26"
             ],
             [
              1,
              "#f0f921"
             ]
            ],
            "type": "histogram2dcontour"
           }
          ],
          "mesh3d": [
           {
            "colorbar": {
             "outlinewidth": 0,
             "ticks": ""
            },
            "type": "mesh3d"
           }
          ],
          "parcoords": [
           {
            "line": {
             "colorbar": {
              "outlinewidth": 0,
              "ticks": ""
             }
            },
            "type": "parcoords"
           }
          ],
          "pie": [
           {
            "automargin": true,
            "type": "pie"
           }
          ],
          "scatter": [
           {
            "fillpattern": {
             "fillmode": "overlay",
             "size": 10,
             "solidity": 0.2
            },
            "type": "scatter"
           }
          ],
          "scatter3d": [
           {
            "line": {
             "colorbar": {
              "outlinewidth": 0,
              "ticks": ""
             }
            },
            "marker": {
             "colorbar": {
              "outlinewidth": 0,
              "ticks": ""
             }
            },
            "type": "scatter3d"
           }
          ],
          "scattercarpet": [
           {
            "marker": {
             "colorbar": {
              "outlinewidth": 0,
              "ticks": ""
             }
            },
            "type": "scattercarpet"
           }
          ],
          "scattergeo": [
           {
            "marker": {
             "colorbar": {
              "outlinewidth": 0,
              "ticks": ""
             }
            },
            "type": "scattergeo"
           }
          ],
          "scattergl": [
           {
            "marker": {
             "colorbar": {
              "outlinewidth": 0,
              "ticks": ""
             }
            },
            "type": "scattergl"
           }
          ],
          "scattermapbox": [
           {
            "marker": {
             "colorbar": {
              "outlinewidth": 0,
              "ticks": ""
             }
            },
            "type": "scattermapbox"
           }
          ],
          "scatterpolar": [
           {
            "marker": {
             "colorbar": {
              "outlinewidth": 0,
              "ticks": ""
             }
            },
            "type": "scatterpolar"
           }
          ],
          "scatterpolargl": [
           {
            "marker": {
             "colorbar": {
              "outlinewidth": 0,
              "ticks": ""
             }
            },
            "type": "scatterpolargl"
           }
          ],
          "scatterternary": [
           {
            "marker": {
             "colorbar": {
              "outlinewidth": 0,
              "ticks": ""
             }
            },
            "type": "scatterternary"
           }
          ],
          "surface": [
           {
            "colorbar": {
             "outlinewidth": 0,
             "ticks": ""
            },
            "colorscale": [
             [
              0,
              "#0d0887"
             ],
             [
              0.1111111111111111,
              "#46039f"
             ],
             [
              0.2222222222222222,
              "#7201a8"
             ],
             [
              0.3333333333333333,
              "#9c179e"
             ],
             [
              0.4444444444444444,
              "#bd3786"
             ],
             [
              0.5555555555555556,
              "#d8576b"
             ],
             [
              0.6666666666666666,
              "#ed7953"
             ],
             [
              0.7777777777777778,
              "#fb9f3a"
             ],
             [
              0.8888888888888888,
              "#fdca26"
             ],
             [
              1,
              "#f0f921"
             ]
            ],
            "type": "surface"
           }
          ],
          "table": [
           {
            "cells": {
             "fill": {
              "color": "#EBF0F8"
             },
             "line": {
              "color": "white"
             }
            },
            "header": {
             "fill": {
              "color": "#C8D4E3"
             },
             "line": {
              "color": "white"
             }
            },
            "type": "table"
           }
          ]
         },
         "layout": {
          "annotationdefaults": {
           "arrowcolor": "#2a3f5f",
           "arrowhead": 0,
           "arrowwidth": 1
          },
          "autotypenumbers": "strict",
          "coloraxis": {
           "colorbar": {
            "outlinewidth": 0,
            "ticks": ""
           }
          },
          "colorscale": {
           "diverging": [
            [
             0,
             "#8e0152"
            ],
            [
             0.1,
             "#c51b7d"
            ],
            [
             0.2,
             "#de77ae"
            ],
            [
             0.3,
             "#f1b6da"
            ],
            [
             0.4,
             "#fde0ef"
            ],
            [
             0.5,
             "#f7f7f7"
            ],
            [
             0.6,
             "#e6f5d0"
            ],
            [
             0.7,
             "#b8e186"
            ],
            [
             0.8,
             "#7fbc41"
            ],
            [
             0.9,
             "#4d9221"
            ],
            [
             1,
             "#276419"
            ]
           ],
           "sequential": [
            [
             0,
             "#0d0887"
            ],
            [
             0.1111111111111111,
             "#46039f"
            ],
            [
             0.2222222222222222,
             "#7201a8"
            ],
            [
             0.3333333333333333,
             "#9c179e"
            ],
            [
             0.4444444444444444,
             "#bd3786"
            ],
            [
             0.5555555555555556,
             "#d8576b"
            ],
            [
             0.6666666666666666,
             "#ed7953"
            ],
            [
             0.7777777777777778,
             "#fb9f3a"
            ],
            [
             0.8888888888888888,
             "#fdca26"
            ],
            [
             1,
             "#f0f921"
            ]
           ],
           "sequentialminus": [
            [
             0,
             "#0d0887"
            ],
            [
             0.1111111111111111,
             "#46039f"
            ],
            [
             0.2222222222222222,
             "#7201a8"
            ],
            [
             0.3333333333333333,
             "#9c179e"
            ],
            [
             0.4444444444444444,
             "#bd3786"
            ],
            [
             0.5555555555555556,
             "#d8576b"
            ],
            [
             0.6666666666666666,
             "#ed7953"
            ],
            [
             0.7777777777777778,
             "#fb9f3a"
            ],
            [
             0.8888888888888888,
             "#fdca26"
            ],
            [
             1,
             "#f0f921"
            ]
           ]
          },
          "colorway": [
           "#636efa",
           "#EF553B",
           "#00cc96",
           "#ab63fa",
           "#FFA15A",
           "#19d3f3",
           "#FF6692",
           "#B6E880",
           "#FF97FF",
           "#FECB52"
          ],
          "font": {
           "color": "#2a3f5f"
          },
          "geo": {
           "bgcolor": "white",
           "lakecolor": "white",
           "landcolor": "#E5ECF6",
           "showlakes": true,
           "showland": true,
           "subunitcolor": "white"
          },
          "hoverlabel": {
           "align": "left"
          },
          "hovermode": "closest",
          "mapbox": {
           "style": "light"
          },
          "paper_bgcolor": "white",
          "plot_bgcolor": "#E5ECF6",
          "polar": {
           "angularaxis": {
            "gridcolor": "white",
            "linecolor": "white",
            "ticks": ""
           },
           "bgcolor": "#E5ECF6",
           "radialaxis": {
            "gridcolor": "white",
            "linecolor": "white",
            "ticks": ""
           }
          },
          "scene": {
           "xaxis": {
            "backgroundcolor": "#E5ECF6",
            "gridcolor": "white",
            "gridwidth": 2,
            "linecolor": "white",
            "showbackground": true,
            "ticks": "",
            "zerolinecolor": "white"
           },
           "yaxis": {
            "backgroundcolor": "#E5ECF6",
            "gridcolor": "white",
            "gridwidth": 2,
            "linecolor": "white",
            "showbackground": true,
            "ticks": "",
            "zerolinecolor": "white"
           },
           "zaxis": {
            "backgroundcolor": "#E5ECF6",
            "gridcolor": "white",
            "gridwidth": 2,
            "linecolor": "white",
            "showbackground": true,
            "ticks": "",
            "zerolinecolor": "white"
           }
          },
          "shapedefaults": {
           "line": {
            "color": "#2a3f5f"
           }
          },
          "ternary": {
           "aaxis": {
            "gridcolor": "white",
            "linecolor": "white",
            "ticks": ""
           },
           "baxis": {
            "gridcolor": "white",
            "linecolor": "white",
            "ticks": ""
           },
           "bgcolor": "#E5ECF6",
           "caxis": {
            "gridcolor": "white",
            "linecolor": "white",
            "ticks": ""
           }
          },
          "title": {
           "x": 0.05
          },
          "xaxis": {
           "automargin": true,
           "gridcolor": "white",
           "linecolor": "white",
           "ticks": "",
           "title": {
            "standoff": 15
           },
           "zerolinecolor": "white",
           "zerolinewidth": 2
          },
          "yaxis": {
           "automargin": true,
           "gridcolor": "white",
           "linecolor": "white",
           "ticks": "",
           "title": {
            "standoff": 15
           },
           "zerolinecolor": "white",
           "zerolinewidth": 2
          }
         }
        },
        "title": {
         "text": "Gantt Chart"
        },
        "xaxis": {
         "rangeselector": {
          "buttons": [
           {
            "count": 7,
            "label": "1w",
            "step": "day",
            "stepmode": "backward"
           },
           {
            "count": 1,
            "label": "1m",
            "step": "month",
            "stepmode": "backward"
           },
           {
            "count": 6,
            "label": "6m",
            "step": "month",
            "stepmode": "backward"
           },
           {
            "count": 1,
            "label": "YTD",
            "step": "year",
            "stepmode": "todate"
           },
           {
            "count": 1,
            "label": "1y",
            "step": "year",
            "stepmode": "backward"
           },
           {
            "step": "all"
           }
          ]
         },
         "showgrid": false,
         "type": "date",
         "zeroline": false
        },
        "yaxis": {
         "autorange": false,
         "range": [
          -1,
          4
         ],
         "showgrid": false,
         "ticktext": [
          "Task 1",
          "Task 2",
          "Task 3"
         ],
         "tickvals": [
          0,
          1,
          2
         ],
         "zeroline": false
        }
       }
      }
     },
     "metadata": {},
     "output_type": "display_data"
    }
   ],
   "source": [
    "import plotly.figure_factory as ff\n",
    "\n",
    "# Sample data\n",
    "df = [dict(Task=\"Task 1\", Start='2024-01-01', Finish='2024-02-28'),\n",
    "      dict(Task=\"Task 2\", Start='2024-03-01', Finish='2024-04-15'),\n",
    "      dict(Task=\"Task 3\", Start='2024-02-15', Finish='2024-03-15')]\n",
    "\n",
    "# Create Gantt chart\n",
    "fig = ff.create_gantt(df)\n",
    "fig.show()\n"
   ]
  },
  {
   "cell_type": "code",
   "execution_count": null,
   "metadata": {},
   "outputs": [],
   "source": []
  }
 ],
 "metadata": {
  "kernelspec": {
   "display_name": "Python 3",
   "language": "python",
   "name": "python3"
  },
  "language_info": {
   "codemirror_mode": {
    "name": "ipython",
    "version": 3
   },
   "file_extension": ".py",
   "mimetype": "text/x-python",
   "name": "python",
   "nbconvert_exporter": "python",
   "pygments_lexer": "ipython3",
   "version": "3.10.0"
  }
 },
 "nbformat": 4,
 "nbformat_minor": 2
}
